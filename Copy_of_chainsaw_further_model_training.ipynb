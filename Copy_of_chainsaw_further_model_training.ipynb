{
  "cells": [
    {
      "cell_type": "markdown",
      "metadata": {
        "id": "view-in-github",
        "colab_type": "text"
      },
      "source": [
        "<a href=\"https://colab.research.google.com/github/SsenabuyaDavid/DeforDetector/blob/main/Copy_of_chainsaw_further_model_training.ipynb\" target=\"_parent\"><img src=\"https://colab.research.google.com/assets/colab-badge.svg\" alt=\"Open In Colab\"/></a>"
      ]
    },
    {
      "cell_type": "markdown",
      "metadata": {
        "id": "Y_wBbDr3llzU"
      },
      "source": [
        "# **MAKERERE UNIVERSITY**\n",
        "\n",
        "##**COLLEGE OF ENGINEERING, DESIGN, ART AND TECHNOLOGY**\n",
        "\n",
        "##**SCHOOL OF ENGINEERING, DEPARTMENT OF ELECTRICAL AND COMPUTER ENGINEERING**\n",
        "\n",
        "###AUDIO DOMAIN MACHINE LEARNING DEFORESTATION DETECTION AND ALERT SYSTEM\n",
        "\n",
        ">PAUL WALYAULA ----- 20/U/0545 ----- BSTE\n",
        "\n",
        ">DAVID SSENABULYA ---- 20/U/0544 ---- BSTE"
      ]
    },
    {
      "cell_type": "markdown",
      "metadata": {
        "id": "W2P0PYnwn4Qz"
      },
      "source": [
        "This .ipynb for creating and training the Machine Learning Model that will be used in the detection of fuel powered chainsaws"
      ]
    },
    {
      "cell_type": "markdown",
      "metadata": {
        "id": "FW6UiukroKTn"
      },
      "source": [
        "##Install Relevant but Missing Libraries"
      ]
    },
    {
      "cell_type": "code",
      "execution_count": null,
      "metadata": {
        "id": "pWwrSZTdudAU",
        "colab": {
          "base_uri": "https://localhost:8080/"
        },
        "outputId": "fbdc0cce-6401-4458-a76a-08b8f76326f1"
      },
      "outputs": [
        {
          "output_type": "stream",
          "name": "stdout",
          "text": [
            "Collecting colorama\n",
            "  Downloading colorama-0.4.6-py2.py3-none-any.whl (25 kB)\n",
            "Installing collected packages: colorama\n",
            "Successfully installed colorama-0.4.6\n",
            "Collecting tensorflow-io\n",
            "  Downloading tensorflow_io-0.37.0-cp310-cp310-manylinux_2_17_x86_64.manylinux2014_x86_64.whl (49.6 MB)\n",
            "\u001b[2K     \u001b[90m━━━━━━━━━━━━━━━━━━━━━━━━━━━━━━━━━━━━━━━━\u001b[0m \u001b[32m49.6/49.6 MB\u001b[0m \u001b[31m17.8 MB/s\u001b[0m eta \u001b[36m0:00:00\u001b[0m\n",
            "\u001b[?25hRequirement already satisfied: tensorflow-io-gcs-filesystem==0.37.0 in /usr/local/lib/python3.10/dist-packages (from tensorflow-io) (0.37.0)\n",
            "Installing collected packages: tensorflow-io\n",
            "Successfully installed tensorflow-io-0.37.0\n",
            "Requirement already satisfied: tensorflow_io in /usr/local/lib/python3.10/dist-packages (0.37.0)\n",
            "Requirement already satisfied: tensorflow-io-gcs-filesystem==0.37.0 in /usr/local/lib/python3.10/dist-packages (from tensorflow_io) (0.37.0)\n",
            "Requirement already satisfied: tensorflow_datasets in /usr/local/lib/python3.10/dist-packages (4.9.4)\n",
            "Requirement already satisfied: absl-py in /usr/local/lib/python3.10/dist-packages (from tensorflow_datasets) (1.4.0)\n",
            "Requirement already satisfied: click in /usr/local/lib/python3.10/dist-packages (from tensorflow_datasets) (8.1.7)\n",
            "Requirement already satisfied: dm-tree in /usr/local/lib/python3.10/dist-packages (from tensorflow_datasets) (0.1.8)\n",
            "Requirement already satisfied: etils[enp,epath,etree]>=0.9.0 in /usr/local/lib/python3.10/dist-packages (from tensorflow_datasets) (1.7.0)\n",
            "Requirement already satisfied: numpy in /usr/local/lib/python3.10/dist-packages (from tensorflow_datasets) (1.25.2)\n",
            "Requirement already satisfied: promise in /usr/local/lib/python3.10/dist-packages (from tensorflow_datasets) (2.3)\n",
            "Requirement already satisfied: protobuf>=3.20 in /usr/local/lib/python3.10/dist-packages (from tensorflow_datasets) (3.20.3)\n",
            "Requirement already satisfied: psutil in /usr/local/lib/python3.10/dist-packages (from tensorflow_datasets) (5.9.5)\n",
            "Requirement already satisfied: requests>=2.19.0 in /usr/local/lib/python3.10/dist-packages (from tensorflow_datasets) (2.31.0)\n",
            "Requirement already satisfied: tensorflow-metadata in /usr/local/lib/python3.10/dist-packages (from tensorflow_datasets) (1.15.0)\n",
            "Requirement already satisfied: termcolor in /usr/local/lib/python3.10/dist-packages (from tensorflow_datasets) (2.4.0)\n",
            "Requirement already satisfied: toml in /usr/local/lib/python3.10/dist-packages (from tensorflow_datasets) (0.10.2)\n",
            "Requirement already satisfied: tqdm in /usr/local/lib/python3.10/dist-packages (from tensorflow_datasets) (4.66.4)\n",
            "Requirement already satisfied: wrapt in /usr/local/lib/python3.10/dist-packages (from tensorflow_datasets) (1.14.1)\n",
            "Requirement already satisfied: array-record>=0.5.0 in /usr/local/lib/python3.10/dist-packages (from tensorflow_datasets) (0.5.1)\n",
            "Requirement already satisfied: fsspec in /usr/local/lib/python3.10/dist-packages (from etils[enp,epath,etree]>=0.9.0->tensorflow_datasets) (2023.6.0)\n",
            "Requirement already satisfied: importlib_resources in /usr/local/lib/python3.10/dist-packages (from etils[enp,epath,etree]>=0.9.0->tensorflow_datasets) (6.4.0)\n",
            "Requirement already satisfied: typing_extensions in /usr/local/lib/python3.10/dist-packages (from etils[enp,epath,etree]>=0.9.0->tensorflow_datasets) (4.11.0)\n",
            "Requirement already satisfied: zipp in /usr/local/lib/python3.10/dist-packages (from etils[enp,epath,etree]>=0.9.0->tensorflow_datasets) (3.18.2)\n",
            "Requirement already satisfied: charset-normalizer<4,>=2 in /usr/local/lib/python3.10/dist-packages (from requests>=2.19.0->tensorflow_datasets) (3.3.2)\n",
            "Requirement already satisfied: idna<4,>=2.5 in /usr/local/lib/python3.10/dist-packages (from requests>=2.19.0->tensorflow_datasets) (3.7)\n",
            "Requirement already satisfied: urllib3<3,>=1.21.1 in /usr/local/lib/python3.10/dist-packages (from requests>=2.19.0->tensorflow_datasets) (2.0.7)\n",
            "Requirement already satisfied: certifi>=2017.4.17 in /usr/local/lib/python3.10/dist-packages (from requests>=2.19.0->tensorflow_datasets) (2024.2.2)\n",
            "Requirement already satisfied: six in /usr/local/lib/python3.10/dist-packages (from promise->tensorflow_datasets) (1.16.0)\n",
            "Collecting tf2onnx\n",
            "  Downloading tf2onnx-1.16.1-py3-none-any.whl (455 kB)\n",
            "\u001b[2K     \u001b[90m━━━━━━━━━━━━━━━━━━━━━━━━━━━━━━━━━━━━━━━━\u001b[0m \u001b[32m455.8/455.8 kB\u001b[0m \u001b[31m7.5 MB/s\u001b[0m eta \u001b[36m0:00:00\u001b[0m\n",
            "\u001b[?25hRequirement already satisfied: numpy>=1.14.1 in /usr/local/lib/python3.10/dist-packages (from tf2onnx) (1.25.2)\n",
            "Collecting onnx>=1.4.1 (from tf2onnx)\n",
            "  Downloading onnx-1.16.1-cp310-cp310-manylinux_2_17_x86_64.manylinux2014_x86_64.whl (15.9 MB)\n",
            "\u001b[2K     \u001b[90m━━━━━━━━━━━━━━━━━━━━━━━━━━━━━━━━━━━━━━━━\u001b[0m \u001b[32m15.9/15.9 MB\u001b[0m \u001b[31m29.5 MB/s\u001b[0m eta \u001b[36m0:00:00\u001b[0m\n",
            "\u001b[?25hRequirement already satisfied: requests in /usr/local/lib/python3.10/dist-packages (from tf2onnx) (2.31.0)\n",
            "Requirement already satisfied: six in /usr/local/lib/python3.10/dist-packages (from tf2onnx) (1.16.0)\n",
            "Requirement already satisfied: flatbuffers>=1.12 in /usr/local/lib/python3.10/dist-packages (from tf2onnx) (24.3.25)\n",
            "Requirement already satisfied: protobuf~=3.20 in /usr/local/lib/python3.10/dist-packages (from tf2onnx) (3.20.3)\n",
            "Requirement already satisfied: charset-normalizer<4,>=2 in /usr/local/lib/python3.10/dist-packages (from requests->tf2onnx) (3.3.2)\n",
            "Requirement already satisfied: idna<4,>=2.5 in /usr/local/lib/python3.10/dist-packages (from requests->tf2onnx) (3.7)\n",
            "Requirement already satisfied: urllib3<3,>=1.21.1 in /usr/local/lib/python3.10/dist-packages (from requests->tf2onnx) (2.0.7)\n",
            "Requirement already satisfied: certifi>=2017.4.17 in /usr/local/lib/python3.10/dist-packages (from requests->tf2onnx) (2024.2.2)\n",
            "Installing collected packages: onnx, tf2onnx\n",
            "Successfully installed onnx-1.16.1 tf2onnx-1.16.1\n",
            "Collecting onnxruntime\n",
            "  Downloading onnxruntime-1.18.0-cp310-cp310-manylinux_2_27_x86_64.manylinux_2_28_x86_64.whl (6.8 MB)\n",
            "\u001b[2K     \u001b[90m━━━━━━━━━━━━━━━━━━━━━━━━━━━━━━━━━━━━━━━━\u001b[0m \u001b[32m6.8/6.8 MB\u001b[0m \u001b[31m22.8 MB/s\u001b[0m eta \u001b[36m0:00:00\u001b[0m\n",
            "\u001b[?25hCollecting coloredlogs (from onnxruntime)\n",
            "  Downloading coloredlogs-15.0.1-py2.py3-none-any.whl (46 kB)\n",
            "\u001b[2K     \u001b[90m━━━━━━━━━━━━━━━━━━━━━━━━━━━━━━━━━━━━━━━━\u001b[0m \u001b[32m46.0/46.0 kB\u001b[0m \u001b[31m6.3 MB/s\u001b[0m eta \u001b[36m0:00:00\u001b[0m\n",
            "\u001b[?25hRequirement already satisfied: flatbuffers in /usr/local/lib/python3.10/dist-packages (from onnxruntime) (24.3.25)\n",
            "Requirement already satisfied: numpy>=1.21.6 in /usr/local/lib/python3.10/dist-packages (from onnxruntime) (1.25.2)\n",
            "Requirement already satisfied: packaging in /usr/local/lib/python3.10/dist-packages (from onnxruntime) (24.0)\n",
            "Requirement already satisfied: protobuf in /usr/local/lib/python3.10/dist-packages (from onnxruntime) (3.20.3)\n",
            "Requirement already satisfied: sympy in /usr/local/lib/python3.10/dist-packages (from onnxruntime) (1.12)\n",
            "Collecting humanfriendly>=9.1 (from coloredlogs->onnxruntime)\n",
            "  Downloading humanfriendly-10.0-py2.py3-none-any.whl (86 kB)\n",
            "\u001b[2K     \u001b[90m━━━━━━━━━━━━━━━━━━━━━━━━━━━━━━━━━━━━━━━━\u001b[0m \u001b[32m86.8/86.8 kB\u001b[0m \u001b[31m13.7 MB/s\u001b[0m eta \u001b[36m0:00:00\u001b[0m\n",
            "\u001b[?25hRequirement already satisfied: mpmath>=0.19 in /usr/local/lib/python3.10/dist-packages (from sympy->onnxruntime) (1.3.0)\n",
            "Installing collected packages: humanfriendly, coloredlogs, onnxruntime\n",
            "Successfully installed coloredlogs-15.0.1 humanfriendly-10.0 onnxruntime-1.18.0\n"
          ]
        }
      ],
      "source": [
        "!pip install colorama\n",
        "!pip install tensorflow-io\n",
        "!pip install tensorflow_io\n",
        "!pip install tensorflow_datasets\n",
        "!pip install tf2onnx\n",
        "!pip install onnxruntime"
      ]
    },
    {
      "cell_type": "markdown",
      "metadata": {
        "id": "H7wJVu3boYTN"
      },
      "source": [
        "##Import Relevant Libraries / modules"
      ]
    },
    {
      "cell_type": "code",
      "execution_count": null,
      "metadata": {
        "id": "tWjpb2xxuZXf"
      },
      "outputs": [],
      "source": [
        "# importing relevant libraries/modules\n",
        "import os  # to enable us navigate the system for files\n",
        "import librosa  # to give us the audio stft(short time fourier transform) and other functions\n",
        "import matplotlib.pyplot as plt  # to enable us visualize the waveforms\n",
        "import tensorflow as tf\n",
        "from colorama import Fore\n",
        "import soundfile  # to enable us write the split audio files\n",
        "import tensorflow_io as tfio  # to make it easier for us to input and output in tf\n",
        "import numpy as np  # for necessary Mathematical calculations with arrays\n",
        "from tensorflow.keras.models import Sequential, load_model\n",
        "from tensorflow.keras.layers import Conv2D, Dense, Flatten, MaxPooling2D\n",
        "from google.colab import drive\n",
        "import tensorflow_datasets as tfds\n",
        "import tf2onnx\n",
        "import onnxruntime as ort\n",
        "import onnx"
      ]
    },
    {
      "cell_type": "markdown",
      "metadata": {
        "id": "rxiFfScYpqS2"
      },
      "source": [
        "##Define Functions\n",
        "1.   For Loading the audio file and making 10seconds split files\n",
        "2.   For Creating spectrograms\n",
        "\n"
      ]
    },
    {
      "cell_type": "markdown",
      "metadata": {
        "id": "nYxTjJ-yWZQL"
      },
      "source": [
        "For Loading and splitting"
      ]
    },
    {
      "cell_type": "code",
      "execution_count": null,
      "metadata": {
        "id": "gXdt1XqMuEhZ"
      },
      "outputs": [],
      "source": [
        "# Defining a function for loading the audio file and making 10seconds audio files\n",
        "def split_en_group(file_path, the_group):\n",
        "    # Load & decode the audio into an array\n",
        "    audio_file, sr = librosa.load(file_path, sr=None)\n",
        "\n",
        "    # chop the audio file into 10 seconds clips if it's greater\n",
        "    if librosa.get_duration(path=file_path) > 10:\n",
        "        buffer = 10 * sr  # this is the number of samples in 10 seconds\n",
        "        total_samples = len(audio_file)  # this is the total number of samples in the whole file\n",
        "        written_samples = 0\n",
        "        counter = 1\n",
        "\n",
        "        while written_samples < total_samples:\n",
        "\n",
        "            # if the buffer is greater than written samples, the remaining samples will be the buffer\n",
        "            if buffer > (total_samples - written_samples):\n",
        "                buffer = total_samples - written_samples\n",
        "\n",
        "            # creating 10 seconds blocks of the file\n",
        "            block = audio_file[written_samples: (written_samples + buffer)]\n",
        "            block.astype(np.int16)\n",
        "            out_filename = \"split_\" + str(counter) + \"_\" + os.path.basename(file_path).split('/')[-1]\n",
        "            print(out_filename)\n",
        "\n",
        "            # function for writing the split files to specific directories (Test, Positive, Negative)\n",
        "            if the_group == \"positive\":\n",
        "                # Write  the 10-second segment to a file in the positive directory\n",
        "                soundfile.write(file=pos_splitFiles + \"/\" + out_filename, data=block, samplerate=sr, subtype=\"PCM_16\")\n",
        "                counter += 1\n",
        "                written_samples += buffer\n",
        "\n",
        "            elif the_group == \"negative\":\n",
        "                # Write  the 10-second segment to a file in the negative directory\n",
        "                soundfile.write(file=neg_splitFiles + \"/\" + out_filename, data=block, samplerate=sr, subtype=\"PCM_16\")\n",
        "                counter += 1\n",
        "                written_samples += buffer\n",
        "\n",
        "            elif the_group == \"test\":\n",
        "                # Write  the 10-second segment to a file in the test directory\n",
        "                soundfile.write(file=test_splitFiles + \"/\" + out_filename, data=block, samplerate=sr, subtype=\"PCM_16\")\n",
        "                counter += 1\n",
        "                written_samples += buffer\n",
        "\n",
        "            else:\n",
        "                print(\n",
        "                    Fore.RED + f\"\\n!!! The Specified Group does not exist !!! \\n --- Check the Spelling >>{the_group}<< ---\")\n",
        "                exit()\n",
        "\n",
        "    # Display the waveform of imported file\n",
        "    '''plt.plot(audio_file)\n",
        "    plt.show()'''"
      ]
    },
    {
      "cell_type": "markdown",
      "metadata": {
        "id": "tcrfzehmWhYB"
      },
      "source": [
        "For creating Spectrograms"
      ]
    },
    {
      "cell_type": "code",
      "execution_count": null,
      "metadata": {
        "id": "SSt0-KDbqgmI"
      },
      "outputs": [],
      "source": [
        "# Define a function for creating the spectrogram\n",
        "def create_spectrogram(file_path, label):\n",
        "    # load the wav file\n",
        "    file_content = tf.io.read_file(file_path)\n",
        "\n",
        "    # decode wav\n",
        "    wav, sr = tf.audio.decode_wav(file_content, desired_channels=1)\n",
        "\n",
        "    wav = tf.squeeze(wav, axis=-1)\n",
        "    sr = tf.cast(sr, dtype=tf.int64)\n",
        "\n",
        "    # down sample from 44.1kHz to 16kHz\n",
        "    #wav = tfio.audio.resample(wav, rate_in=sr, rate_out=16000)\n",
        "\n",
        "    # grab the first 10s\n",
        "    wav = wav[:160000]\n",
        "    # pad zeros to the shorter clips\n",
        "    zero_pads = tf.zeros([160000] - tf.shape(wav), dtype=tf.float32)\n",
        "    wav = tf.concat([zero_pads, wav], 0)\n",
        "    spectrogram = tf.signal.stft(wav, frame_length=320, frame_step=32) #take 320 samples, do stft. skip 32 samples and take the next stft\n",
        "    spectrogram = tf.abs(spectrogram)\n",
        "    spectrogram = tf.expand_dims(spectrogram, axis=2)\n",
        "\n",
        "    return spectrogram, label"
      ]
    },
    {
      "cell_type": "markdown",
      "source": [
        "##Mounting Drive"
      ],
      "metadata": {
        "id": "ocj8X16ProTW"
      }
    },
    {
      "cell_type": "code",
      "execution_count": null,
      "metadata": {
        "colab": {
          "base_uri": "https://localhost:8080/"
        },
        "id": "sikqn0Pn_ZlN",
        "outputId": "daf99ca3-13df-474b-c9a6-c91cd1d76380"
      },
      "outputs": [
        {
          "output_type": "stream",
          "name": "stdout",
          "text": [
            "Mounted at /content/drive\n"
          ]
        }
      ],
      "source": [
        "drive.mount('/content/drive')"
      ]
    },
    {
      "cell_type": "markdown",
      "metadata": {
        "id": "nNc3rsTbquGD"
      },
      "source": [
        "##Initialize the Directories for the split files"
      ]
    },
    {
      "cell_type": "code",
      "execution_count": null,
      "metadata": {
        "id": "0YY9b-Ktq4Oj"
      },
      "outputs": [],
      "source": [
        "# initialize the directories for the split files to be stored\n",
        "pos_splitFiles = \"/content/drive/MyDrive/Split_Files2/Positive\"\n",
        "neg_splitFiles = \"/content/drive/MyDrive/Split_Files2/Negative\"\n",
        "test_splitFiles = \"/content/drive/MyDrive/Split_Files2/Test\""
      ]
    },
    {
      "cell_type": "markdown",
      "metadata": {
        "id": "2MXmc1ygrJn7"
      },
      "source": [
        "##Create the Directories"
      ]
    },
    {
      "cell_type": "code",
      "execution_count": null,
      "metadata": {
        "colab": {
          "base_uri": "https://localhost:8080/"
        },
        "id": "F6fuwje5rXxX",
        "outputId": "f2f3d853-f753-429d-f061-b92469db8931"
      },
      "outputs": [
        {
          "name": "stdout",
          "output_type": "stream",
          "text": [
            "The paths exist\n"
          ]
        }
      ],
      "source": [
        "# the function for creating the initialized directories\n",
        "try:\n",
        "    os.makedirs(pos_splitFiles)\n",
        "    os.makedirs(neg_splitFiles)\n",
        "    os.makedirs(test_splitFiles)\n",
        "    print(\"The paths have been created\")\n",
        "    no_file_exists = True\n",
        "except FileExistsError:\n",
        "    no_file_exists = False\n",
        "    print(\"The paths exist\")\n",
        "\n",
        "if no_file_exists:\n",
        "    # loop for creating and grouping the positive split files from our collected data\n",
        "    for filename in os.listdir(\"/content/drive/MyDrive/parsed2/parsed_chainsaw\"):\n",
        "        filepath = os.path.join(\"/content/drive/MyDrive/parsed2/parsed_chainsaw\", filename)\n",
        "        if os.path.isfile(filepath):\n",
        "            split_en_group(filepath, \"positive\")\n",
        "\n",
        "    # loop for creating and grouping the negative split files from our collected data\n",
        "    for filename in os.listdir(\"/content/drive/MyDrive/parsed2/parsed_non_chainsaw\"):\n",
        "        filepath = os.path.join(\"/content/drive/MyDrive/parsed2/parsed_non_chainsaw\", filename)\n",
        "        if os.path.isfile(filepath):\n",
        "            split_en_group(filepath, \"negative\")\n",
        "\n",
        "    # loop for creating and grouping the test split files from our collected data\n",
        "    for filename in os.listdir(\"/content/drive/MyDrive/parsed2/parsed_mixed\"):\n",
        "        filepath = os.path.join(\"/content/drive/MyDrive/parsed2/parsed_mixed\", filename)\n",
        "        if os.path.isfile(filepath):\n",
        "            split_en_group(filepath, \"test\")"
      ]
    },
    {
      "cell_type": "code",
      "execution_count": null,
      "metadata": {
        "id": "HnUeg2tIXoqV",
        "colab": {
          "base_uri": "https://localhost:8080/"
        },
        "collapsed": true,
        "outputId": "dc334d4b-bb73-463e-d870-6c45df4787cb"
      },
      "outputs": [
        {
          "output_type": "stream",
          "name": "stdout",
          "text": [
            "split_1_noise_background-converted.wav\n",
            "split_2_noise_background-converted.wav\n",
            "split_3_noise_background-converted.wav\n",
            "split_4_noise_background-converted.wav\n",
            "split_5_noise_background-converted.wav\n",
            "split_6_noise_background-converted.wav\n",
            "split_7_noise_background-converted.wav\n",
            "split_8_noise_background-converted.wav\n",
            "split_9_noise_background-converted.wav\n",
            "split_10_noise_background-converted.wav\n",
            "split_11_noise_background-converted.wav\n",
            "split_12_noise_background-converted.wav\n",
            "split_13_noise_background-converted.wav\n",
            "split_14_noise_background-converted.wav\n",
            "split_15_noise_background-converted.wav\n",
            "split_16_noise_background-converted.wav\n",
            "split_17_noise_background-converted.wav\n",
            "split_18_noise_background-converted.wav\n",
            "split_19_noise_background-converted.wav\n",
            "split_20_noise_background-converted.wav\n",
            "split_21_noise_background-converted.wav\n",
            "split_22_noise_background-converted.wav\n",
            "split_23_noise_background-converted.wav\n",
            "split_24_noise_background-converted.wav\n",
            "split_25_noise_background-converted.wav\n",
            "split_26_noise_background-converted.wav\n",
            "split_27_noise_background-converted.wav\n",
            "split_28_noise_background-converted.wav\n",
            "split_29_noise_background-converted.wav\n",
            "split_30_noise_background-converted.wav\n",
            "split_31_noise_background-converted.wav\n",
            "split_32_noise_background-converted.wav\n",
            "split_33_noise_background-converted.wav\n",
            "split_34_noise_background-converted.wav\n",
            "split_35_noise_background-converted.wav\n",
            "split_36_noise_background-converted.wav\n",
            "split_37_noise_background-converted.wav\n",
            "split_38_noise_background-converted.wav\n",
            "split_39_noise_background-converted.wav\n",
            "split_40_noise_background-converted.wav\n",
            "split_41_noise_background-converted.wav\n",
            "split_42_noise_background-converted.wav\n",
            "split_43_noise_background-converted.wav\n",
            "split_44_noise_background-converted.wav\n",
            "split_45_noise_background-converted.wav\n",
            "split_46_noise_background-converted.wav\n",
            "split_47_noise_background-converted.wav\n",
            "split_48_noise_background-converted.wav\n",
            "split_49_noise_background-converted.wav\n",
            "split_50_noise_background-converted.wav\n",
            "split_51_noise_background-converted.wav\n",
            "split_52_noise_background-converted.wav\n",
            "split_53_noise_background-converted.wav\n",
            "split_54_noise_background-converted.wav\n",
            "split_55_noise_background-converted.wav\n",
            "split_56_noise_background-converted.wav\n",
            "split_57_noise_background-converted.wav\n",
            "split_58_noise_background-converted.wav\n",
            "split_59_noise_background-converted.wav\n",
            "split_60_noise_background-converted.wav\n"
          ]
        }
      ],
      "source": [
        "split_en_group(\"/content/drive/MyDrive/Split_Files2/noise_background-converted.wav\",\"negative\")"
      ]
    },
    {
      "cell_type": "markdown",
      "source": [
        "Dont Exceed 300 splits"
      ],
      "metadata": {
        "id": "9H4RSnhRkOee"
      }
    },
    {
      "cell_type": "code",
      "execution_count": null,
      "metadata": {
        "id": "taUriThAYbXd",
        "colab": {
          "base_uri": "https://localhost:8080/"
        },
        "collapsed": true,
        "outputId": "72571c44-45b7-4ef5-ac05-c10b4da1403e"
      },
      "outputs": [
        {
          "output_type": "stream",
          "name": "stdout",
          "text": [
            "split_1_chainsaw1.wav\n",
            "split_2_chainsaw1.wav\n",
            "split_3_chainsaw1.wav\n",
            "split_4_chainsaw1.wav\n",
            "split_5_chainsaw1.wav\n",
            "split_6_chainsaw1.wav\n",
            "split_7_chainsaw1.wav\n",
            "split_8_chainsaw1.wav\n",
            "split_9_chainsaw1.wav\n",
            "split_10_chainsaw1.wav\n",
            "split_11_chainsaw1.wav\n",
            "split_12_chainsaw1.wav\n",
            "split_13_chainsaw1.wav\n",
            "split_14_chainsaw1.wav\n",
            "split_15_chainsaw1.wav\n",
            "split_16_chainsaw1.wav\n",
            "split_17_chainsaw1.wav\n",
            "split_18_chainsaw1.wav\n",
            "split_19_chainsaw1.wav\n",
            "split_20_chainsaw1.wav\n",
            "split_21_chainsaw1.wav\n",
            "split_22_chainsaw1.wav\n",
            "split_23_chainsaw1.wav\n",
            "split_24_chainsaw1.wav\n",
            "split_25_chainsaw1.wav\n",
            "split_26_chainsaw1.wav\n",
            "split_27_chainsaw1.wav\n",
            "split_28_chainsaw1.wav\n",
            "split_29_chainsaw1.wav\n",
            "split_30_chainsaw1.wav\n",
            "split_31_chainsaw1.wav\n",
            "split_32_chainsaw1.wav\n",
            "split_33_chainsaw1.wav\n",
            "split_34_chainsaw1.wav\n",
            "split_35_chainsaw1.wav\n",
            "split_36_chainsaw1.wav\n",
            "split_37_chainsaw1.wav\n",
            "split_38_chainsaw1.wav\n",
            "split_39_chainsaw1.wav\n",
            "split_40_chainsaw1.wav\n",
            "split_41_chainsaw1.wav\n",
            "split_42_chainsaw1.wav\n",
            "split_43_chainsaw1.wav\n",
            "split_44_chainsaw1.wav\n",
            "split_45_chainsaw1.wav\n",
            "split_46_chainsaw1.wav\n",
            "split_47_chainsaw1.wav\n",
            "split_48_chainsaw1.wav\n",
            "split_49_chainsaw1.wav\n",
            "split_50_chainsaw1.wav\n",
            "split_51_chainsaw1.wav\n",
            "split_52_chainsaw1.wav\n",
            "split_53_chainsaw1.wav\n",
            "split_54_chainsaw1.wav\n",
            "split_55_chainsaw1.wav\n",
            "split_56_chainsaw1.wav\n",
            "split_57_chainsaw1.wav\n",
            "split_58_chainsaw1.wav\n",
            "split_59_chainsaw1.wav\n",
            "split_60_chainsaw1.wav\n",
            "split_61_chainsaw1.wav\n",
            "split_62_chainsaw1.wav\n",
            "split_63_chainsaw1.wav\n",
            "split_64_chainsaw1.wav\n",
            "split_65_chainsaw1.wav\n",
            "split_66_chainsaw1.wav\n",
            "split_67_chainsaw1.wav\n",
            "split_68_chainsaw1.wav\n",
            "split_69_chainsaw1.wav\n",
            "split_70_chainsaw1.wav\n",
            "split_71_chainsaw1.wav\n",
            "split_72_chainsaw1.wav\n",
            "split_73_chainsaw1.wav\n",
            "split_74_chainsaw1.wav\n",
            "split_75_chainsaw1.wav\n",
            "split_76_chainsaw1.wav\n",
            "split_77_chainsaw1.wav\n",
            "split_78_chainsaw1.wav\n",
            "split_79_chainsaw1.wav\n",
            "split_80_chainsaw1.wav\n",
            "split_81_chainsaw1.wav\n",
            "split_82_chainsaw1.wav\n",
            "split_83_chainsaw1.wav\n",
            "split_84_chainsaw1.wav\n",
            "split_85_chainsaw1.wav\n",
            "split_86_chainsaw1.wav\n",
            "split_87_chainsaw1.wav\n",
            "split_88_chainsaw1.wav\n",
            "split_89_chainsaw1.wav\n",
            "split_90_chainsaw1.wav\n",
            "split_91_chainsaw1.wav\n",
            "split_92_chainsaw1.wav\n",
            "split_93_chainsaw1.wav\n",
            "split_94_chainsaw1.wav\n",
            "split_95_chainsaw1.wav\n",
            "split_96_chainsaw1.wav\n",
            "split_97_chainsaw1.wav\n",
            "split_98_chainsaw1.wav\n",
            "split_99_chainsaw1.wav\n",
            "split_100_chainsaw1.wav\n",
            "split_101_chainsaw1.wav\n",
            "split_102_chainsaw1.wav\n",
            "split_103_chainsaw1.wav\n",
            "split_104_chainsaw1.wav\n",
            "split_105_chainsaw1.wav\n",
            "split_106_chainsaw1.wav\n",
            "split_107_chainsaw1.wav\n",
            "split_108_chainsaw1.wav\n",
            "split_109_chainsaw1.wav\n",
            "split_110_chainsaw1.wav\n",
            "split_111_chainsaw1.wav\n",
            "split_112_chainsaw1.wav\n",
            "split_113_chainsaw1.wav\n",
            "split_114_chainsaw1.wav\n",
            "split_115_chainsaw1.wav\n",
            "split_116_chainsaw1.wav\n",
            "split_117_chainsaw1.wav\n",
            "split_118_chainsaw1.wav\n",
            "split_119_chainsaw1.wav\n",
            "split_120_chainsaw1.wav\n",
            "split_121_chainsaw1.wav\n",
            "split_122_chainsaw1.wav\n",
            "split_123_chainsaw1.wav\n",
            "split_124_chainsaw1.wav\n",
            "split_125_chainsaw1.wav\n",
            "split_126_chainsaw1.wav\n",
            "split_127_chainsaw1.wav\n",
            "split_128_chainsaw1.wav\n",
            "split_129_chainsaw1.wav\n",
            "split_130_chainsaw1.wav\n",
            "split_131_chainsaw1.wav\n",
            "split_132_chainsaw1.wav\n",
            "split_133_chainsaw1.wav\n",
            "split_134_chainsaw1.wav\n",
            "split_135_chainsaw1.wav\n",
            "split_136_chainsaw1.wav\n",
            "split_137_chainsaw1.wav\n",
            "split_138_chainsaw1.wav\n",
            "split_139_chainsaw1.wav\n",
            "split_140_chainsaw1.wav\n",
            "split_141_chainsaw1.wav\n",
            "split_142_chainsaw1.wav\n",
            "split_143_chainsaw1.wav\n",
            "split_144_chainsaw1.wav\n",
            "split_145_chainsaw1.wav\n",
            "split_146_chainsaw1.wav\n",
            "split_147_chainsaw1.wav\n",
            "split_148_chainsaw1.wav\n",
            "split_149_chainsaw1.wav\n",
            "split_150_chainsaw1.wav\n",
            "split_151_chainsaw1.wav\n",
            "split_152_chainsaw1.wav\n",
            "split_153_chainsaw1.wav\n",
            "split_154_chainsaw1.wav\n",
            "split_155_chainsaw1.wav\n",
            "split_156_chainsaw1.wav\n",
            "split_157_chainsaw1.wav\n",
            "split_158_chainsaw1.wav\n",
            "split_159_chainsaw1.wav\n",
            "split_160_chainsaw1.wav\n",
            "split_161_chainsaw1.wav\n",
            "split_162_chainsaw1.wav\n",
            "split_163_chainsaw1.wav\n",
            "split_164_chainsaw1.wav\n",
            "split_165_chainsaw1.wav\n",
            "split_166_chainsaw1.wav\n",
            "split_167_chainsaw1.wav\n",
            "split_168_chainsaw1.wav\n",
            "split_169_chainsaw1.wav\n",
            "split_170_chainsaw1.wav\n",
            "split_171_chainsaw1.wav\n",
            "split_172_chainsaw1.wav\n",
            "split_173_chainsaw1.wav\n",
            "split_174_chainsaw1.wav\n",
            "split_175_chainsaw1.wav\n",
            "split_176_chainsaw1.wav\n",
            "split_177_chainsaw1.wav\n",
            "split_178_chainsaw1.wav\n",
            "split_179_chainsaw1.wav\n",
            "split_180_chainsaw1.wav\n",
            "split_181_chainsaw1.wav\n",
            "split_182_chainsaw1.wav\n",
            "split_183_chainsaw1.wav\n",
            "split_184_chainsaw1.wav\n",
            "split_185_chainsaw1.wav\n",
            "split_186_chainsaw1.wav\n",
            "split_187_chainsaw1.wav\n",
            "split_188_chainsaw1.wav\n",
            "split_189_chainsaw1.wav\n",
            "split_190_chainsaw1.wav\n",
            "split_191_chainsaw1.wav\n",
            "split_192_chainsaw1.wav\n",
            "split_193_chainsaw1.wav\n",
            "split_194_chainsaw1.wav\n",
            "split_195_chainsaw1.wav\n",
            "split_196_chainsaw1.wav\n",
            "split_197_chainsaw1.wav\n",
            "split_198_chainsaw1.wav\n",
            "split_199_chainsaw1.wav\n",
            "split_200_chainsaw1.wav\n",
            "split_201_chainsaw1.wav\n",
            "split_202_chainsaw1.wav\n",
            "split_203_chainsaw1.wav\n",
            "split_204_chainsaw1.wav\n",
            "split_205_chainsaw1.wav\n",
            "split_206_chainsaw1.wav\n",
            "split_207_chainsaw1.wav\n",
            "split_208_chainsaw1.wav\n",
            "split_209_chainsaw1.wav\n",
            "split_210_chainsaw1.wav\n",
            "split_211_chainsaw1.wav\n",
            "split_212_chainsaw1.wav\n",
            "split_213_chainsaw1.wav\n",
            "split_214_chainsaw1.wav\n",
            "split_215_chainsaw1.wav\n",
            "split_216_chainsaw1.wav\n",
            "split_217_chainsaw1.wav\n",
            "split_218_chainsaw1.wav\n",
            "split_219_chainsaw1.wav\n",
            "split_220_chainsaw1.wav\n",
            "split_221_chainsaw1.wav\n",
            "split_222_chainsaw1.wav\n",
            "split_223_chainsaw1.wav\n",
            "split_224_chainsaw1.wav\n",
            "split_225_chainsaw1.wav\n",
            "split_226_chainsaw1.wav\n",
            "split_227_chainsaw1.wav\n",
            "split_228_chainsaw1.wav\n",
            "split_229_chainsaw1.wav\n",
            "split_230_chainsaw1.wav\n",
            "split_231_chainsaw1.wav\n",
            "split_232_chainsaw1.wav\n",
            "split_233_chainsaw1.wav\n",
            "split_234_chainsaw1.wav\n",
            "split_235_chainsaw1.wav\n",
            "split_236_chainsaw1.wav\n",
            "split_237_chainsaw1.wav\n",
            "split_238_chainsaw1.wav\n",
            "split_239_chainsaw1.wav\n",
            "split_240_chainsaw1.wav\n",
            "split_241_chainsaw1.wav\n",
            "split_242_chainsaw1.wav\n",
            "split_243_chainsaw1.wav\n",
            "split_244_chainsaw1.wav\n",
            "split_245_chainsaw1.wav\n",
            "split_246_chainsaw1.wav\n",
            "split_247_chainsaw1.wav\n",
            "split_248_chainsaw1.wav\n",
            "split_249_chainsaw1.wav\n",
            "split_250_chainsaw1.wav\n",
            "split_251_chainsaw1.wav\n",
            "split_252_chainsaw1.wav\n",
            "split_253_chainsaw1.wav\n",
            "split_254_chainsaw1.wav\n",
            "split_255_chainsaw1.wav\n",
            "split_256_chainsaw1.wav\n",
            "split_257_chainsaw1.wav\n",
            "split_258_chainsaw1.wav\n",
            "split_259_chainsaw1.wav\n",
            "split_260_chainsaw1.wav\n",
            "split_261_chainsaw1.wav\n",
            "split_262_chainsaw1.wav\n",
            "split_263_chainsaw1.wav\n",
            "split_264_chainsaw1.wav\n",
            "split_265_chainsaw1.wav\n",
            "split_266_chainsaw1.wav\n",
            "split_267_chainsaw1.wav\n",
            "split_268_chainsaw1.wav\n",
            "split_269_chainsaw1.wav\n",
            "split_270_chainsaw1.wav\n",
            "split_271_chainsaw1.wav\n",
            "split_272_chainsaw1.wav\n",
            "split_273_chainsaw1.wav\n",
            "split_274_chainsaw1.wav\n",
            "split_275_chainsaw1.wav\n",
            "split_276_chainsaw1.wav\n",
            "split_277_chainsaw1.wav\n",
            "split_278_chainsaw1.wav\n",
            "split_279_chainsaw1.wav\n",
            "split_280_chainsaw1.wav\n",
            "split_281_chainsaw1.wav\n",
            "split_282_chainsaw1.wav\n",
            "split_283_chainsaw1.wav\n",
            "split_284_chainsaw1.wav\n",
            "split_285_chainsaw1.wav\n",
            "split_286_chainsaw1.wav\n",
            "split_287_chainsaw1.wav\n",
            "split_288_chainsaw1.wav\n",
            "split_289_chainsaw1.wav\n",
            "split_290_chainsaw1.wav\n",
            "split_291_chainsaw1.wav\n",
            "split_292_chainsaw1.wav\n",
            "split_293_chainsaw1.wav\n",
            "split_294_chainsaw1.wav\n",
            "split_295_chainsaw1.wav\n",
            "split_296_chainsaw1.wav\n",
            "split_297_chainsaw1.wav\n",
            "split_298_chainsaw1.wav\n",
            "split_299_chainsaw1.wav\n",
            "split_300_chainsaw1.wav\n",
            "split_301_chainsaw1.wav\n",
            "split_302_chainsaw1.wav\n",
            "split_303_chainsaw1.wav\n",
            "split_304_chainsaw1.wav\n",
            "split_305_chainsaw1.wav\n",
            "split_306_chainsaw1.wav\n",
            "split_307_chainsaw1.wav\n",
            "split_308_chainsaw1.wav\n",
            "split_309_chainsaw1.wav\n",
            "split_310_chainsaw1.wav\n",
            "split_311_chainsaw1.wav\n",
            "split_312_chainsaw1.wav\n",
            "split_313_chainsaw1.wav\n",
            "split_314_chainsaw1.wav\n",
            "split_315_chainsaw1.wav\n",
            "split_316_chainsaw1.wav\n",
            "split_317_chainsaw1.wav\n",
            "split_318_chainsaw1.wav\n",
            "split_319_chainsaw1.wav\n",
            "split_320_chainsaw1.wav\n",
            "split_321_chainsaw1.wav\n",
            "split_322_chainsaw1.wav\n",
            "split_323_chainsaw1.wav\n",
            "split_324_chainsaw1.wav\n",
            "split_325_chainsaw1.wav\n",
            "split_326_chainsaw1.wav\n",
            "split_327_chainsaw1.wav\n",
            "split_328_chainsaw1.wav\n",
            "split_329_chainsaw1.wav\n",
            "split_330_chainsaw1.wav\n",
            "split_331_chainsaw1.wav\n",
            "split_332_chainsaw1.wav\n",
            "split_333_chainsaw1.wav\n",
            "split_334_chainsaw1.wav\n",
            "split_335_chainsaw1.wav\n",
            "split_336_chainsaw1.wav\n",
            "split_337_chainsaw1.wav\n",
            "split_338_chainsaw1.wav\n",
            "split_339_chainsaw1.wav\n",
            "split_340_chainsaw1.wav\n",
            "split_341_chainsaw1.wav\n",
            "split_342_chainsaw1.wav\n",
            "split_343_chainsaw1.wav\n",
            "split_344_chainsaw1.wav\n",
            "split_345_chainsaw1.wav\n",
            "split_346_chainsaw1.wav\n",
            "split_347_chainsaw1.wav\n",
            "split_348_chainsaw1.wav\n",
            "split_349_chainsaw1.wav\n",
            "split_350_chainsaw1.wav\n",
            "split_351_chainsaw1.wav\n",
            "split_352_chainsaw1.wav\n",
            "split_353_chainsaw1.wav\n",
            "split_354_chainsaw1.wav\n",
            "split_355_chainsaw1.wav\n",
            "split_356_chainsaw1.wav\n",
            "split_357_chainsaw1.wav\n",
            "split_358_chainsaw1.wav\n",
            "split_359_chainsaw1.wav\n",
            "split_360_chainsaw1.wav\n",
            "split_361_chainsaw1.wav\n",
            "split_362_chainsaw1.wav\n",
            "split_363_chainsaw1.wav\n",
            "split_364_chainsaw1.wav\n",
            "split_365_chainsaw1.wav\n",
            "split_366_chainsaw1.wav\n",
            "split_367_chainsaw1.wav\n",
            "split_368_chainsaw1.wav\n",
            "split_369_chainsaw1.wav\n",
            "split_370_chainsaw1.wav\n",
            "split_371_chainsaw1.wav\n",
            "split_372_chainsaw1.wav\n",
            "split_373_chainsaw1.wav\n",
            "split_374_chainsaw1.wav\n",
            "split_375_chainsaw1.wav\n",
            "split_376_chainsaw1.wav\n",
            "split_377_chainsaw1.wav\n",
            "split_378_chainsaw1.wav\n",
            "split_379_chainsaw1.wav\n",
            "split_380_chainsaw1.wav\n",
            "split_381_chainsaw1.wav\n",
            "split_382_chainsaw1.wav\n",
            "split_383_chainsaw1.wav\n",
            "split_384_chainsaw1.wav\n",
            "split_385_chainsaw1.wav\n",
            "split_386_chainsaw1.wav\n",
            "split_387_chainsaw1.wav\n",
            "split_388_chainsaw1.wav\n",
            "split_389_chainsaw1.wav\n",
            "split_390_chainsaw1.wav\n",
            "split_391_chainsaw1.wav\n",
            "split_392_chainsaw1.wav\n",
            "split_393_chainsaw1.wav\n",
            "split_394_chainsaw1.wav\n",
            "split_395_chainsaw1.wav\n",
            "split_396_chainsaw1.wav\n",
            "split_397_chainsaw1.wav\n",
            "split_398_chainsaw1.wav\n",
            "split_399_chainsaw1.wav\n",
            "split_400_chainsaw1.wav\n",
            "split_401_chainsaw1.wav\n",
            "split_402_chainsaw1.wav\n",
            "split_403_chainsaw1.wav\n",
            "split_404_chainsaw1.wav\n",
            "split_405_chainsaw1.wav\n",
            "split_406_chainsaw1.wav\n",
            "split_407_chainsaw1.wav\n",
            "split_408_chainsaw1.wav\n",
            "split_409_chainsaw1.wav\n",
            "split_410_chainsaw1.wav\n",
            "split_411_chainsaw1.wav\n",
            "split_412_chainsaw1.wav\n",
            "split_413_chainsaw1.wav\n",
            "split_414_chainsaw1.wav\n",
            "split_415_chainsaw1.wav\n",
            "split_416_chainsaw1.wav\n",
            "split_417_chainsaw1.wav\n",
            "split_418_chainsaw1.wav\n",
            "split_419_chainsaw1.wav\n",
            "split_420_chainsaw1.wav\n",
            "split_421_chainsaw1.wav\n",
            "split_422_chainsaw1.wav\n",
            "split_423_chainsaw1.wav\n",
            "split_424_chainsaw1.wav\n",
            "split_425_chainsaw1.wav\n",
            "split_426_chainsaw1.wav\n",
            "split_427_chainsaw1.wav\n",
            "split_428_chainsaw1.wav\n",
            "split_429_chainsaw1.wav\n",
            "split_430_chainsaw1.wav\n",
            "split_431_chainsaw1.wav\n",
            "split_432_chainsaw1.wav\n",
            "split_433_chainsaw1.wav\n",
            "split_434_chainsaw1.wav\n",
            "split_435_chainsaw1.wav\n",
            "split_436_chainsaw1.wav\n",
            "split_437_chainsaw1.wav\n",
            "split_438_chainsaw1.wav\n",
            "split_439_chainsaw1.wav\n",
            "split_440_chainsaw1.wav\n",
            "split_441_chainsaw1.wav\n",
            "split_442_chainsaw1.wav\n",
            "split_443_chainsaw1.wav\n",
            "split_444_chainsaw1.wav\n",
            "split_445_chainsaw1.wav\n",
            "split_446_chainsaw1.wav\n",
            "split_447_chainsaw1.wav\n",
            "split_448_chainsaw1.wav\n",
            "split_449_chainsaw1.wav\n",
            "split_450_chainsaw1.wav\n",
            "split_451_chainsaw1.wav\n",
            "split_452_chainsaw1.wav\n",
            "split_453_chainsaw1.wav\n",
            "split_454_chainsaw1.wav\n",
            "split_455_chainsaw1.wav\n",
            "split_456_chainsaw1.wav\n",
            "split_457_chainsaw1.wav\n",
            "split_458_chainsaw1.wav\n",
            "split_459_chainsaw1.wav\n",
            "split_460_chainsaw1.wav\n",
            "split_461_chainsaw1.wav\n",
            "split_462_chainsaw1.wav\n",
            "split_463_chainsaw1.wav\n",
            "split_464_chainsaw1.wav\n",
            "split_465_chainsaw1.wav\n",
            "split_466_chainsaw1.wav\n",
            "split_467_chainsaw1.wav\n",
            "split_468_chainsaw1.wav\n",
            "split_469_chainsaw1.wav\n",
            "split_470_chainsaw1.wav\n",
            "split_471_chainsaw1.wav\n",
            "split_472_chainsaw1.wav\n",
            "split_473_chainsaw1.wav\n",
            "split_474_chainsaw1.wav\n",
            "split_475_chainsaw1.wav\n",
            "split_476_chainsaw1.wav\n",
            "split_477_chainsaw1.wav\n",
            "split_478_chainsaw1.wav\n",
            "split_479_chainsaw1.wav\n",
            "split_480_chainsaw1.wav\n",
            "split_481_chainsaw1.wav\n",
            "split_482_chainsaw1.wav\n",
            "split_483_chainsaw1.wav\n",
            "split_484_chainsaw1.wav\n",
            "split_485_chainsaw1.wav\n",
            "split_486_chainsaw1.wav\n",
            "split_487_chainsaw1.wav\n",
            "split_488_chainsaw1.wav\n",
            "split_489_chainsaw1.wav\n",
            "split_490_chainsaw1.wav\n",
            "split_491_chainsaw1.wav\n",
            "split_492_chainsaw1.wav\n",
            "split_493_chainsaw1.wav\n",
            "split_494_chainsaw1.wav\n",
            "split_495_chainsaw1.wav\n",
            "split_496_chainsaw1.wav\n",
            "split_497_chainsaw1.wav\n",
            "split_498_chainsaw1.wav\n",
            "split_499_chainsaw1.wav\n",
            "split_500_chainsaw1.wav\n",
            "split_501_chainsaw1.wav\n",
            "split_502_chainsaw1.wav\n",
            "split_503_chainsaw1.wav\n",
            "split_504_chainsaw1.wav\n",
            "split_505_chainsaw1.wav\n",
            "split_506_chainsaw1.wav\n",
            "split_507_chainsaw1.wav\n",
            "split_508_chainsaw1.wav\n",
            "split_509_chainsaw1.wav\n",
            "split_510_chainsaw1.wav\n",
            "split_511_chainsaw1.wav\n",
            "split_512_chainsaw1.wav\n",
            "split_513_chainsaw1.wav\n",
            "split_514_chainsaw1.wav\n",
            "split_515_chainsaw1.wav\n",
            "split_516_chainsaw1.wav\n",
            "split_517_chainsaw1.wav\n",
            "split_518_chainsaw1.wav\n",
            "split_519_chainsaw1.wav\n",
            "split_520_chainsaw1.wav\n",
            "split_521_chainsaw1.wav\n"
          ]
        }
      ],
      "source": [
        "split_en_group(\"/content/drive/MyDrive/Split_Files2/chainsaw1.wav\",\"positive\")"
      ]
    },
    {
      "cell_type": "markdown",
      "metadata": {
        "id": "WnbWcgl0slUr"
      },
      "source": [
        "##Create TensorFlow Dataset"
      ]
    },
    {
      "cell_type": "code",
      "execution_count": null,
      "metadata": {
        "id": "4xxmcR7ostdS"
      },
      "outputs": [],
      "source": [
        "# creating the TensorFlow data sets\n",
        "pos = tf.data.Dataset.list_files(\"/content/drive/MyDrive/Split_Files2/Positive/*.wav\")\n",
        "neg = tf.data.Dataset.list_files(\"/content/drive/MyDrive/Split_Files2/Negative/*.wav\")\n",
        "\n",
        "# Adding labels to the positive and negative datasets\n",
        "positives = tf.data.Dataset.zip((pos, tf.data.Dataset.from_tensor_slices(tf.ones(len(pos)))))\n",
        "negatives = tf.data.Dataset.zip((neg, tf.data.Dataset.from_tensor_slices(tf.zeros(len(neg)))))\n",
        "data = positives.concatenate(negatives)  # combine the positive and negative datasets into 1 dataset"
      ]
    },
    {
      "cell_type": "markdown",
      "metadata": {
        "id": "fJ1QOjtDs1bH"
      },
      "source": [
        "##Create TensorFlow data pipepline"
      ]
    },
    {
      "cell_type": "code",
      "execution_count": null,
      "metadata": {
        "id": "78mqTsF6s7-p"
      },
      "outputs": [],
      "source": [
        "# creating the tensorflow data pipeline\n",
        "data = data.map(create_spectrogram)  # mapping our function that returns the spectrogram and label\n",
        "data = data.cache()  # caching the data\n",
        "data = data.shuffle(buffer_size=5)  # shuffling or mixing the dataset\n",
        "data = data.batch(16)  # creating batches of 16 to train on at a time\n",
        "data = data.prefetch(8)  # fetching 8 batches at a time\n",
        "\n",
        "# divide dataset into training and testing partitions\n",
        "trn = int(len(data) * 0.7)  # using 70% of dataset for training\n",
        "tst = len(data) - trn  # using 30% of dataset for testing\n",
        "\n",
        "train = data.take(trn)  # training data\n",
        "#data = data.cache()  # caching the data\n",
        "test = data.skip(trn).take(tst)  # testing data"
      ]
    },
    {
      "cell_type": "markdown",
      "metadata": {
        "id": "z3ywGTevtYrm"
      },
      "source": [
        "#Import the Model\n",
        "*   View The Model\n",
        "*   Track the training\n",
        "*   Save the new one\n",
        "*   Convert to TFlite"
      ]
    },
    {
      "cell_type": "code",
      "execution_count": null,
      "metadata": {
        "colab": {
          "base_uri": "https://localhost:8080/"
        },
        "id": "VWLoXvJ2tgai",
        "outputId": "8dc4a449-e5c1-435f-dce7-9b8414a5b6e5"
      },
      "outputs": [
        {
          "output_type": "stream",
          "name": "stdout",
          "text": [
            "Model: \"sequential\"\n",
            "_________________________________________________________________\n",
            " Layer (type)                Output Shape              Param #   \n",
            "=================================================================\n",
            " conv2d (Conv2D)             (None, 4989, 255, 16)     160       \n",
            "                                                                 \n",
            " conv2d_1 (Conv2D)           (None, 4987, 253, 16)     2320      \n",
            "                                                                 \n",
            " conv2d_2 (Conv2D)           (None, 4985, 251, 16)     2320      \n",
            "                                                                 \n",
            " max_pooling2d (MaxPooling2  (None, 2492, 125, 16)     0         \n",
            " D)                                                              \n",
            "                                                                 \n",
            " flatten (Flatten)           (None, 4984000)           0         \n",
            "                                                                 \n",
            " dense (Dense)               (None, 1)                 4984001   \n",
            "                                                                 \n",
            "=================================================================\n",
            "Total params: 4988801 (19.03 MB)\n",
            "Trainable params: 4988801 (19.03 MB)\n",
            "Non-trainable params: 0 (0.00 Byte)\n",
            "_________________________________________________________________\n"
          ]
        }
      ],
      "source": [
        "# Model Importation\n",
        "model = load_model('/content/drive/MyDrive/TFmodels/chainsaw.keras')\n",
        "\n",
        "# viewing the model\n",
        "model.summary()"
      ]
    },
    {
      "cell_type": "markdown",
      "metadata": {
        "id": "qHRjVIx6uI26"
      },
      "source": [
        "##Model Training"
      ]
    },
    {
      "cell_type": "code",
      "execution_count": null,
      "metadata": {
        "id": "0kLt47-1uQi7",
        "colab": {
          "base_uri": "https://localhost:8080/"
        },
        "outputId": "a97308ad-0e41-4c89-b3ad-2483bf26d3c7"
      },
      "outputs": [
        {
          "output_type": "stream",
          "name": "stdout",
          "text": [
            "Epoch 1/12\n",
            "23/23 [==============================] - 178s 7s/step - loss: 0.0321 - recall: 1.0000 - precision: 0.9904 - val_loss: 0.0272 - val_recall: 0.0000e+00 - val_precision: 0.0000e+00\n",
            "Epoch 2/12\n",
            "23/23 [==============================] - 16s 695ms/step - loss: 0.0243 - recall: 1.0000 - precision: 0.9856 - val_loss: 0.0202 - val_recall: 0.0000e+00 - val_precision: 0.0000e+00\n",
            "Epoch 3/12\n",
            "23/23 [==============================] - 16s 695ms/step - loss: 0.0183 - recall: 1.0000 - precision: 0.9952 - val_loss: 0.0228 - val_recall: 0.0000e+00 - val_precision: 0.0000e+00\n",
            "Epoch 4/12\n",
            "23/23 [==============================] - 16s 701ms/step - loss: 0.0142 - recall: 1.0000 - precision: 1.0000 - val_loss: 0.0207 - val_recall: 0.0000e+00 - val_precision: 0.0000e+00\n",
            "Epoch 5/12\n",
            "23/23 [==============================] - 16s 706ms/step - loss: 0.0129 - recall: 1.0000 - precision: 1.0000 - val_loss: 0.0196 - val_recall: 0.0000e+00 - val_precision: 0.0000e+00\n",
            "Epoch 6/12\n",
            "23/23 [==============================] - 16s 703ms/step - loss: 0.0118 - recall: 1.0000 - precision: 1.0000 - val_loss: 0.0196 - val_recall: 0.0000e+00 - val_precision: 0.0000e+00\n",
            "Epoch 7/12\n",
            "23/23 [==============================] - 16s 711ms/step - loss: 0.0107 - recall: 1.0000 - precision: 1.0000 - val_loss: 0.0187 - val_recall: 0.0000e+00 - val_precision: 0.0000e+00\n",
            "Epoch 8/12\n",
            "23/23 [==============================] - 16s 714ms/step - loss: 0.0103 - recall: 1.0000 - precision: 1.0000 - val_loss: 0.0176 - val_recall: 0.0000e+00 - val_precision: 0.0000e+00\n",
            "Epoch 9/12\n",
            "23/23 [==============================] - 16s 720ms/step - loss: 0.0098 - recall: 1.0000 - precision: 1.0000 - val_loss: 0.0170 - val_recall: 0.0000e+00 - val_precision: 0.0000e+00\n",
            "Epoch 10/12\n",
            "23/23 [==============================] - 17s 757ms/step - loss: 0.0094 - recall: 1.0000 - precision: 1.0000 - val_loss: 0.0164 - val_recall: 0.0000e+00 - val_precision: 0.0000e+00\n",
            "Epoch 11/12\n",
            "23/23 [==============================] - 16s 715ms/step - loss: 0.0088 - recall: 1.0000 - precision: 1.0000 - val_loss: 0.0160 - val_recall: 0.0000e+00 - val_precision: 0.0000e+00\n",
            "Epoch 12/12\n",
            "23/23 [==============================] - 17s 721ms/step - loss: 0.0087 - recall: 1.0000 - precision: 1.0000 - val_loss: 0.0156 - val_recall: 0.0000e+00 - val_precision: 0.0000e+00\n"
          ]
        }
      ],
      "source": [
        "# training, tracking the loss and KPI plots\n",
        "histore = model.fit(train, epochs=12, validation_data=test)"
      ]
    },
    {
      "cell_type": "markdown",
      "metadata": {
        "id": "AQpEgcsNtoEq"
      },
      "source": [
        "###Model tracking"
      ]
    },
    {
      "cell_type": "code",
      "execution_count": null,
      "metadata": {
        "id": "iRrkz3mttbpt",
        "colab": {
          "base_uri": "https://localhost:8080/",
          "height": 1000
        },
        "outputId": "d5e565bd-3a07-4877-e806-8e0402745223"
      },
      "outputs": [
        {
          "output_type": "display_data",
          "data": {
            "text/plain": [
              "<Figure size 640x480 with 1 Axes>"
            ],
            "image/png": "[encoded data removed]"
          },
          "metadata": {}
        },
        {
          "output_type": "display_data",
          "data": {
            "text/plain": [
              "<Figure size 640x480 with 1 Axes>"
            ],
            "image/png": "[encoded data removed]"
          },
          "metadata": {}
        },
        {
          "output_type": "display_data",
          "data": {
            "text/plain": [
              "<Figure size 640x480 with 1 Axes>"
            ],
            "image/png": "[encoded data removed]"
          },
          "metadata": {}
        }
      ],
      "source": [
        "# ploting the graphs\n",
        "\n",
        "plt.title('Loss') # for the loss plot\n",
        "plt.plot(histore.history['loss'], 'r')\n",
        "plt.plot(histore.history['val_loss'], 'b')\n",
        "plt.show()\n",
        "\n",
        "plt.title('Precision') # for the precision plot\n",
        "plt.plot(histore.history['precision'], 'r')\n",
        "plt.plot(histore.history['val_precision'], 'b')\n",
        "plt.show()\n",
        "\n",
        "plt.title('Recall') # for the recall plot\n",
        "plt.plot(histore.history['recall'], 'r')\n",
        "plt.plot(histore.history['val_recall'], 'b')\n",
        "plt.show()"
      ]
    },
    {
      "cell_type": "markdown",
      "metadata": {
        "id": "9hm1XKZjSK6K"
      },
      "source": [
        "##Save the model to google drive"
      ]
    },
    {
      "cell_type": "code",
      "execution_count": null,
      "metadata": {
        "id": "Olxmet5dWnOI"
      },
      "outputs": [],
      "source": [
        "# code to save model as keras to googledrive\n",
        "model.save('/content/drive/MyDrive/TFmodels/chainsaw.keras')"
      ]
    },
    {
      "cell_type": "code",
      "execution_count": null,
      "metadata": {
        "id": "5yLHeqrPbGS7"
      },
      "outputs": [],
      "source": [
        "#save the model as \".saved model\", for later conversion to tf_lite\n",
        "tf.saved_model.save(model, '/content/drive/MyDrive/TFmodels/chainsaw')"
      ]
    },
    {
      "cell_type": "markdown",
      "source": [
        "#Conversions"
      ],
      "metadata": {
        "id": "dy1mRJPvqtlm"
      }
    },
    {
      "cell_type": "markdown",
      "metadata": {
        "id": "5SF0wf0KWNtI"
      },
      "source": [
        "##Convert the model to Tensorflow lite version"
      ]
    },
    {
      "cell_type": "code",
      "execution_count": null,
      "metadata": {
        "id": "rZ5XAfcjeQ_b"
      },
      "outputs": [],
      "source": [
        "# Convert the model to tflite\n",
        "converter = tf.lite.TFLiteConverter.from_saved_model('/content/drive/MyDrive/TFmodels/chainsaw') # path to the SavedModel directory\n",
        "tflite_model = converter.convert()\n",
        "\n",
        "# Save the model.\n",
        "with open('/content/drive/MyDrive/TFmodels/chainsaw_detection.tflite', 'wb') as f:\n",
        "  f.write(tflite_model)"
      ]
    },
    {
      "cell_type": "markdown",
      "metadata": {
        "id": "YAcXipFSeymu"
      },
      "source": [
        "## Create a model with preprocess functionality for ONNX"
      ]
    },
    {
      "cell_type": "code",
      "execution_count": null,
      "metadata": {
        "id": "QrdLJ1JSHU74"
      },
      "outputs": [],
      "source": [
        "# create a preprocessing layer to be included on thy model\n",
        "\n",
        "class PreprocessingLayer(tf.keras.layers.Layer):\n",
        "  def __init__(self, output_dim=(None, 4991,257,1), **kwargs):\n",
        "    self.output_dim = output_dim\n",
        "    super(PreprocessingLayer, self).__init__(**kwargs)\n",
        "\n",
        "  def build(self, input_shape=(None, 160000,1)):\n",
        "    super(PreprocessingLayer, self).build(input_shape)\n",
        "\n",
        "  def call(self, inputs, training=False):\n",
        "    def create_spectrogram(wav):\n",
        "\n",
        "      '''# load the wav file\n",
        "      file_content = tf.io.read_file(filepath)\n",
        "      # decode wav\n",
        "      wav, sr = tf.audio.decode_wav(file_content, desired_channels=1)'''\n",
        "\n",
        "      wav = tf.squeeze(wav, axis=-1)\n",
        "\n",
        "      '''#sr = tf.cast(sr, dtype=tf.int64)\n",
        "      # down sample from 44.1kHz to 16kHz\n",
        "      #wav = tfio.audio.resample(wav, rate_in=sr, rate_out=16000)'''\n",
        "\n",
        "      # grab the first 10s\n",
        "      wav = wav[:160000]\n",
        "      # pad zeros to the shorter clips\n",
        "      zero_pads = tf.zeros([160000] - tf.shape(wav), dtype=tf.float32)\n",
        "      wav = tf.concat([zero_pads, wav], 0)\n",
        "      spectrogram = tf.signal.stft(wav, frame_length=320, frame_step=32)\n",
        "      spectrogram = tf.abs(spectrogram)\n",
        "      spectrogram = tf.expand_dims(spectrogram, axis=2)\n",
        "\n",
        "      return spectrogram\n",
        "\n",
        "    #map the function to the inputs\n",
        "    preprocessed = tf.map_fn(create_spectrogram, inputs, fn_output_signature=tf.float32)\n",
        "\n",
        "    return preprocessed"
      ]
    },
    {
      "cell_type": "markdown",
      "metadata": {
        "id": "xymWqItZYqjt"
      },
      "source": [
        "Stacking the preprocessing layer onto the model"
      ]
    },
    {
      "cell_type": "code",
      "execution_count": null,
      "metadata": {
        "id": "-U5YXxob-NFp",
        "colab": {
          "base_uri": "https://localhost:8080/"
        },
        "outputId": "e3469834-2f62-49ed-d7c1-3b9ee8063ac4"
      },
      "outputs": [
        {
          "output_type": "stream",
          "name": "stdout",
          "text": [
            "Model: \"sequential\"\n",
            "_________________________________________________________________\n",
            " Layer (type)                Output Shape              Param #   \n",
            "=================================================================\n",
            " preprocessing_layer (Prepr  (None, 4991, 257, 1)      0         \n",
            " ocessingLayer)                                                  \n",
            "                                                                 \n",
            " sequential (Sequential)     (None, 1)                 4988801   \n",
            "                                                                 \n",
            "=================================================================\n",
            "Total params: 4988801 (19.03 MB)\n",
            "Trainable params: 4988801 (19.03 MB)\n",
            "Non-trainable params: 0 (0.00 Byte)\n",
            "_________________________________________________________________\n"
          ]
        }
      ],
      "source": [
        "# code to add my new layer infront of the existing model\n",
        "pre_model = tf.keras.Sequential([\n",
        "    PreprocessingLayer(),\n",
        "    model,\n",
        "])\n",
        "\n",
        "#Build the Model\n",
        "pre_model.build(input_shape=(None,160000,1))\n",
        "pre_model.summary()"
      ]
    },
    {
      "cell_type": "markdown",
      "metadata": {
        "id": "ZWOpKPYfnETX"
      },
      "source": [
        "Convert to ONNX model"
      ]
    },
    {
      "cell_type": "code",
      "execution_count": null,
      "metadata": {
        "id": "q4UXqITGn3_m"
      },
      "outputs": [],
      "source": [
        "input_signature = [tf.TensorSpec([None,160000,1], tf.float32, name='input_layer')]\n",
        "onnx_model, _ = tf2onnx.convert.from_keras(pre_model, input_signature, opset=18)\n",
        "onnx.save(onnx_model, \"/content/drive/MyDrive/TFmodels/chainsaw_detection.onnx\")"
      ]
    },
    {
      "cell_type": "markdown",
      "metadata": {
        "id": "gh_WCirYEtR2"
      },
      "source": [
        "#Make predictions"
      ]
    },
    {
      "cell_type": "markdown",
      "metadata": {
        "id": "OuVHJn5MIQ43"
      },
      "source": [
        "Function for creating non labled spectrograms"
      ]
    },
    {
      "cell_type": "code",
      "execution_count": null,
      "metadata": {
        "id": "R5klEM1jGHO8"
      },
      "outputs": [],
      "source": [
        "# Define a function for creating the spectrogram\n",
        "def spectrogram_no_label(file_path):\n",
        "    # load the wav file\n",
        "    file_content = tf.io.read_file(file_path)\n",
        "\n",
        "    # decode wav\n",
        "    wav, sr = tf.audio.decode_wav(file_content, desired_channels=1)\n",
        "\n",
        "    wav = tf.squeeze(wav, axis=-1)\n",
        "    sr = tf.cast(sr, dtype=tf.int64)\n",
        "\n",
        "    # down sample from 44.1kHz to 16kHz\n",
        "    #wav = tfio.audio.resample(wav, rate_in=sr, rate_out=16000)\n",
        "\n",
        "    # grab the first 10s\n",
        "    wav = wav[:160000]\n",
        "\n",
        "    # pad zeros to the shorter clips\n",
        "    zero_pads = tf.zeros([160000] - tf.shape(wav), dtype=tf.float32)\n",
        "    wav = tf.concat([zero_pads, wav], 0)\n",
        "    spectrogram = tf.signal.stft(wav, frame_length=320, frame_step=32)\n",
        "    plt.plot(spectrogram)\n",
        "    plt.show()\n",
        "    spectrogram = tf.abs(spectrogram)\n",
        "    plt.plot(spectrogram)\n",
        "    plt.show()\n",
        "    spectrogram = tf.expand_dims(spectrogram, axis=2)\n",
        "    return spectrogram"
      ]
    },
    {
      "cell_type": "code",
      "source": [
        "spectrogram_no_label('/content/drive/MyDrive/Split_Files2/Negative/split_148_wildlife.wav')"
      ],
      "metadata": {
        "colab": {
          "base_uri": "https://localhost:8080/",
          "height": 1000
        },
        "id": "23j_-JaDKr27",
        "outputId": "0ec1246a-842a-4472-cf95-7d416789e278"
      },
      "execution_count": null,
      "outputs": [
        {
          "output_type": "display_data",
          "data": {
            "text/plain": [
              "<Figure size 640x480 with 1 Axes>"
            ],
            "image/png": "[encoded data removed]"
          },
          "metadata": {}
        },
        {
          "output_type": "display_data",
          "data": {
            "text/plain": [
              "<Figure size 640x480 with 1 Axes>"
            ],
            "image/png": "[encoded data removed]"
          },
          "metadata": {}
        },
        {
          "output_type": "execute_result",
          "data": {
            "text/plain": [
              "<tf.Tensor: shape=(4991, 257, 1), dtype=float32, numpy=\n",
              "array([[[7.2205439e-06],\n",
              "        [2.1945816e-04],\n",
              "        [7.5346288e-05],\n",
              "        ...,\n",
              "        [2.3853111e-03],\n",
              "        [1.6276039e-03],\n",
              "        [1.2095524e-03]],\n",
              "\n",
              "       [[4.2289495e-05],\n",
              "        [1.7838158e-04],\n",
              "        [1.8146694e-04],\n",
              "        ...,\n",
              "        [2.2931790e-03],\n",
              "        [1.5881951e-03],\n",
              "        [6.8797916e-04]],\n",
              "\n",
              "       [[6.9770962e-05],\n",
              "        [1.5628355e-04],\n",
              "        [2.5132697e-04],\n",
              "        ...,\n",
              "        [2.0737962e-03],\n",
              "        [1.7061086e-03],\n",
              "        [3.7584826e-04]],\n",
              "\n",
              "       ...,\n",
              "\n",
              "       [[2.3278948e-03],\n",
              "        [1.8702601e-03],\n",
              "        [1.1232890e-03],\n",
              "        ...,\n",
              "        [2.5037311e-03],\n",
              "        [1.9858615e-03],\n",
              "        [1.5729088e-03]],\n",
              "\n",
              "       [[2.1129502e-03],\n",
              "        [1.6781284e-03],\n",
              "        [8.0947514e-04],\n",
              "        ...,\n",
              "        [2.5560961e-03],\n",
              "        [1.7036921e-03],\n",
              "        [7.0791412e-04]],\n",
              "\n",
              "       [[2.0508356e-03],\n",
              "        [1.1897074e-03],\n",
              "        [4.4119766e-04],\n",
              "        ...,\n",
              "        [2.1939902e-03],\n",
              "        [1.5861450e-03],\n",
              "        [3.6617555e-04]]], dtype=float32)>"
            ]
          },
          "metadata": {},
          "execution_count": 15
        }
      ]
    },
    {
      "cell_type": "markdown",
      "metadata": {
        "id": "i10ivKdlIMPD"
      },
      "source": [
        "Predicting on Keras model"
      ]
    },
    {
      "cell_type": "code",
      "execution_count": null,
      "metadata": {
        "id": "mgFczJd2FGpV"
      },
      "outputs": [],
      "source": [
        "# code that will use the trained model to make predictions basing on given file paths\n",
        "drive.mount('/content/drive')\n",
        "# load the model\n",
        "model = load_model('/content/drive/MyDrive/TFmodelsN/chainsaw.keras')\n",
        "\n",
        "# load the test data\n",
        "test_data = tf.data.Dataset.list_files(\"/content/drive/MyDrive/Split_Files2/Test/*.wav\")\n",
        "test_data = test_data.map(spectrogram_no_label)\n",
        "test_data = test_data.batch(16)\n",
        "\n",
        "# make predictions\n",
        "predictions = model.predict(test_data)\n",
        "\n",
        "# print the predictions\n",
        "print(predictions)"
      ]
    },
    {
      "cell_type": "markdown",
      "source": [
        "Predictions on preprocess layer model"
      ],
      "metadata": {
        "id": "jnSuU3XmqCho"
      }
    },
    {
      "cell_type": "code",
      "source": [
        "# get the input shape of my model\n",
        "pre_model.input_shape\n",
        "\n",
        "###now leme make a prediction\n",
        "\n",
        "# load the wav file\n",
        "file_content = tf.io.read_file(\"/content/drive/MyDrive/Split_Files2/Positive/split_335_aupclean2.wav\")\n",
        "# decode wav\n",
        "wavo, sr = tf.audio.decode_wav(file_content, desired_channels=1)\n",
        "\n",
        "#making the prediction\n",
        "prediction = pre_model.predict(tf.expand_dims(wavo,axis=0)) #here\n",
        "print(prediction)"
      ],
      "metadata": {
        "id": "kmibPL7sqK4z"
      },
      "execution_count": null,
      "outputs": []
    },
    {
      "cell_type": "markdown",
      "metadata": {
        "id": "HEMfhur8pDi5"
      },
      "source": [
        "Predictions on Tensorflow Lite model"
      ]
    },
    {
      "cell_type": "code",
      "execution_count": null,
      "metadata": {
        "id": "zsZPRI6tPBiz"
      },
      "outputs": [],
      "source": [
        "# Import the saved TensorFlow Lite model\n",
        "drive.mount('/content/drive')\n",
        "interpreter = tf.lite.Interpreter(model_path='/content/drive/MyDrive/TFmodels/chainsaw_detection.tflite')\n",
        "\n",
        "# Get input and output tensors\n",
        "input_details = interpreter.get_input_details()\n",
        "output_details = interpreter.get_output_details()\n",
        "\n",
        "# Load test data\n",
        "test_data = tf.data.Dataset.list_files(\"/content/drive/MyDrive/Split_Files/Test/*.wav\")\n",
        "file_location = test_data\n",
        "test_data = test_data.map(spectrogram_no_label)\n",
        "test_data = test_data.batch(1)\n",
        "\n",
        "# Make predictions\n",
        "predictions = []\n",
        "for test_batch in test_data:\n",
        "    interpreter.allocate_tensors()\n",
        "    interpreter.set_tensor(input_details[0]['index'], test_batch)\n",
        "    interpreter.invoke()\n",
        "    predictions.extend(interpreter.get_tensor(output_details[0]['index']))\n",
        "n=0\n",
        "# Print predictions and file paths\n",
        "for f in file_location:\n",
        "  f = next(iter(file_location))\n",
        "  print(\"\\nEvent\")\n",
        "  print(f)\n",
        "  print(f\"has {predictions[n][0]} probability of chainsaw activity\\n\")\n",
        "  n+=1\n"
      ]
    },
    {
      "cell_type": "markdown",
      "source": [
        "#Confusion Matrix"
      ],
      "metadata": {
        "id": "J1i4xwgHaBzI"
      }
    },
    {
      "cell_type": "code",
      "source": [
        "from sklearn.metrics import confusion_matrix\n",
        "import itertools\n",
        "\n",
        "# Load the test dataset\n",
        "# creating the TensorFlow data sets\n",
        "pos = tf.data.Dataset.list_files(\"/content/drive/MyDrive/Split_Files2/Positivetb/*.wav\")\n",
        "neg = tf.data.Dataset.list_files(\"/content/drive/MyDrive/Split_Files2/Negativetb/*.wav\")\n",
        "\n",
        "test_labels=[] #for the actual labels\n",
        "for i in pos:\n",
        "  test_labels.append(1)\n",
        "for i in neg:\n",
        "  test_labels.append(0)\n",
        "\n",
        "# Adding labels to the positive and negative datasets\n",
        "positives = tf.data.Dataset.zip((pos, tf.data.Dataset.from_tensor_slices(tf.ones(len(pos)))))\n",
        "negatives = tf.data.Dataset.zip((neg, tf.data.Dataset.from_tensor_slices(tf.zeros(len(neg)))))\n",
        "test_data = positives.concatenate(negatives)  # combine the positive and negative datasets into 1 dataset\n",
        "\n",
        "# creating the tensorflow data pipeline\n",
        "test_data = test_data.map(create_spectrogram)  # mapping our function that returns the spectrogram and label\n",
        "test_data = test_data.cache()  # caching the data\n",
        "test_data = test_data.batch(16)  # creating batches of 16 to train on at a time\n",
        "test_data = test_data.prefetch(8)  # fetching 8 batches at a time"
      ],
      "metadata": {
        "collapsed": true,
        "id": "42RiOLcla0Qu"
      },
      "execution_count": null,
      "outputs": []
    },
    {
      "cell_type": "code",
      "source": [
        "# Make predictions\n",
        "predictions = model.predict(test_data)"
      ],
      "metadata": {
        "colab": {
          "base_uri": "https://localhost:8080/"
        },
        "id": "cdeCiJkHja5O",
        "outputId": "48f31f9f-1667-4832-a2d1-0b63b4145765"
      },
      "execution_count": null,
      "outputs": [
        {
          "output_type": "stream",
          "name": "stdout",
          "text": [
            "38/38 [==============================] - 126s 3s/step\n"
          ]
        }
      ]
    },
    {
      "cell_type": "code",
      "source": [
        "#creating an array with rounded prediction values\n",
        "\n",
        "chainsaw_predictions =[]\n",
        "\n",
        "#loop for rounding the predictions\n",
        "for value in predictions:\n",
        "  if value >= 0.85:\n",
        "    chainsaw_predictions.append(1)\n",
        "  else:\n",
        "    chainsaw_predictions.append(0)"
      ],
      "metadata": {
        "collapsed": true,
        "id": "V5y4vethvAjp"
      },
      "execution_count": null,
      "outputs": []
    },
    {
      "cell_type": "code",
      "source": [
        "cm = confusion_matrix(y_true=test_labels , y_pred=chainsaw_predictions)"
      ],
      "metadata": {
        "id": "DzY5QdtFyUlP"
      },
      "execution_count": null,
      "outputs": []
    },
    {
      "cell_type": "markdown",
      "source": [
        "Function to print and Plot Confusion Matrix"
      ],
      "metadata": {
        "id": "WaptR5gW6wyc"
      }
    },
    {
      "cell_type": "code",
      "source": [
        "def plot_confusion_matrix(cm, classes, normalise=False, title=\"Confusion Matrix\", cmap=plt.cm.Blues):\n",
        "  plt.imshow(cm,interpolation=\"nearest\",cmap=cmap)\n",
        "  plt.title(title)\n",
        "  plt.colorbar()\n",
        "  tick_marks = np.arange(len(classes))\n",
        "  plt.xticks(tick_marks, classes, rotation=45)\n",
        "  plt.yticks(tick_marks, classes)\n",
        "\n",
        "  if normalise:\n",
        "    cm = cm.astype('float')/cm.sum(axis=1)[:,np.newaxis]\n",
        "    print(\"Normalised confusion Matrix\")\n",
        "  else:\n",
        "    print('Confusion matrix, without normalization')\n",
        "\n",
        "  print(cm)\n",
        "\n",
        "  thresh = cm.max()/2\n",
        "  for i, j in itertools.product(range(cm.shape[0]), range(cm.shape[1])):\n",
        "    plt.text(j,i,cm[i,j],\n",
        "             horizontalalignment='center',\n",
        "             color='white' if cm[i,j]>thresh else 'black'\n",
        "             )\n",
        "    plt.tight_layout()\n",
        "    plt.ylabel('True Label')\n",
        "    plt.xlabel('Predicted label')"
      ],
      "metadata": {
        "id": "OpJf9hBc6G_T"
      },
      "execution_count": null,
      "outputs": []
    },
    {
      "cell_type": "markdown",
      "source": [
        "plot the confusion matrix"
      ],
      "metadata": {
        "id": "zkJkg0FL_hrj"
      }
    },
    {
      "cell_type": "code",
      "source": [
        "cm_plot_labels = ['Not Chainsaw', 'Chainsaw']\n",
        "plot_confusion_matrix(cm=cm, classes=cm_plot_labels, title = 'Confusion Matrix')"
      ],
      "metadata": {
        "colab": {
          "base_uri": "https://localhost:8080/",
          "height": 538
        },
        "id": "FCTnfT-a-lC2",
        "outputId": "b7ff1aca-7f0f-4a83-ca0c-6e6bbaffdb9f"
      },
      "execution_count": null,
      "outputs": [
        {
          "output_type": "stream",
          "name": "stdout",
          "text": [
            "Confusion matrix, without normalization\n",
            "[[228 103]\n",
            " [ 31 245]]\n"
          ]
        },
        {
          "output_type": "display_data",
          "data": {
            "text/plain": [
              "<Figure size 640x480 with 2 Axes>"
            ],
            "image/png": "[encoded data removed]"
          },
          "metadata": {}
        }
      ]
    },
    {
      "cell_type": "markdown",
      "source": [
        "# For the app"
      ],
      "metadata": {
        "id": "ZGVdEOgKzXeM"
      }
    },
    {
      "cell_type": "code",
      "source": [
        "# Define a function for creating the spectrogram\n",
        "\n",
        "def spect_predict(file_path):\n",
        "    # load the wav file\n",
        "    file_content = tf.io.read_file(file_path)\n",
        "\n",
        "    # decode wav\n",
        "    wav, sr = tf.audio.decode_wav(file_content, desired_channels=1)\n",
        "\n",
        "    wav = tf.squeeze(wav, axis=-1)\n",
        "    #sr = tf.cast(sr, dtype=tf.int64)\n",
        "\n",
        "    # down sample from 44.1kHz to 16kHz\n",
        "    #wav = tfio.audio.resample(wav, rate_in=sr, rate_out=16000)\n",
        "\n",
        "    # grab the first 10s\n",
        "    wav = wav[:160000]\n",
        "\n",
        "    # pad zeros to the shorter clips\n",
        "    #zero_pads = tf.zeros([160000] - tf.shape(wav), dtype=tf.float32)\n",
        "    #wav = tf.concat([zero_pads, wav], 0)\n",
        "\n",
        "    spectrogram = tf.signal.stft(wav, frame_length=320, frame_step=32)\n",
        "    spectrogram = tf.abs(spectrogram)\n",
        "    spectrogram = tf.expand_dims(spectrogram, axis=2)\n",
        "    spectrogram = tf.expand_dims(spectrogram, axis=0)\n",
        "\n",
        "    #load the lite interpreter\n",
        "    interpreter = tf.lite.Interpreter(model_path='/content/drive/MyDrive/TFmodels/chainsaw_detection.tflite')\n",
        "\n",
        "    # Get input and output tensors\n",
        "    interpreter.allocate_tensors()\n",
        "    input_details = interpreter.get_input_details()\n",
        "    output_details = interpreter.get_output_details()\n",
        "\n",
        "    #set and predict\n",
        "    input_shape = input_details[0]['shape']\n",
        "    interpreter.set_tensor(input_details[0]['index'], spectrogram)\n",
        "\n",
        "    interpreter.invoke()\n",
        "\n",
        "    output_data = interpreter.get_tensor(output_details[0]['index'])\n",
        "\n",
        "    return output_data"
      ],
      "metadata": {
        "id": "I03kG3Ga0KQm"
      },
      "execution_count": null,
      "outputs": []
    },
    {
      "cell_type": "code",
      "source": [
        "spect_predict(\"/content/drive/MyDrive/Split_Files/Negative/split_3_241130__jesu_tenoh__forest-07.wav\")"
      ],
      "metadata": {
        "colab": {
          "base_uri": "https://localhost:8080/"
        },
        "id": "DHLxsx-24mZ9",
        "outputId": "31f6fd85-3896-49a1-dc05-49937583bcad"
      },
      "execution_count": null,
      "outputs": [
        {
          "output_type": "execute_result",
          "data": {
            "text/plain": [
              "array([[0.08538777]], dtype=float32)"
            ]
          },
          "metadata": {},
          "execution_count": 20
        }
      ]
    }
  ],
  "metadata": {
    "colab": {
      "collapsed_sections": [
        "FW6UiukroKTn",
        "H7wJVu3boYTN",
        "rxiFfScYpqS2",
        "ocj8X16ProTW",
        "nNc3rsTbquGD",
        "2MXmc1ygrJn7",
        "WnbWcgl0slUr",
        "fJ1QOjtDs1bH",
        "z3ywGTevtYrm",
        "qHRjVIx6uI26",
        "9hm1XKZjSK6K",
        "dy1mRJPvqtlm",
        "5SF0wf0KWNtI",
        "YAcXipFSeymu",
        "gh_WCirYEtR2"
      ],
      "provenance": [],
      "toc_visible": true,
      "include_colab_link": true
    },
    "kernelspec": {
      "display_name": "Python 3",
      "name": "python3"
    },
    "language_info": {
      "name": "python"
    }
  },
  "nbformat": 4,
  "nbformat_minor": 0
}